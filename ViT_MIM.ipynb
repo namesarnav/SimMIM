{
  "nbformat": 4,
  "nbformat_minor": 0,
  "metadata": {
    "colab": {
      "provenance": [],
      "machine_shape": "hm",
      "gpuType": "A100",
      "authorship_tag": "ABX9TyNR3408COXrBrgcrwzGCTPD",
      "include_colab_link": true
    },
    "kernelspec": {
      "name": "python3",
      "display_name": "Python 3"
    },
    "language_info": {
      "name": "python"
    },
    "accelerator": "GPU",
    "widgets": {
      "application/vnd.jupyter.widget-state+json": {
        "5e2f3d076fca49b681676e2a33eac6c8": {
          "model_module": "@jupyter-widgets/controls",
          "model_name": "HBoxModel",
          "model_module_version": "1.5.0",
          "state": {
            "_dom_classes": [],
            "_model_module": "@jupyter-widgets/controls",
            "_model_module_version": "1.5.0",
            "_model_name": "HBoxModel",
            "_view_count": null,
            "_view_module": "@jupyter-widgets/controls",
            "_view_module_version": "1.5.0",
            "_view_name": "HBoxView",
            "box_style": "",
            "children": [
              "IPY_MODEL_e4c3f3ee61b44511896a675a4cfb7145",
              "IPY_MODEL_b7436c275f574c58957e275e00f3a2fa",
              "IPY_MODEL_af7e76dd3dd343be9fdec56f08c9713a"
            ],
            "layout": "IPY_MODEL_008bfe7282f441fd87d0b7eb6a81b4c1"
          }
        },
        "e4c3f3ee61b44511896a675a4cfb7145": {
          "model_module": "@jupyter-widgets/controls",
          "model_name": "HTMLModel",
          "model_module_version": "1.5.0",
          "state": {
            "_dom_classes": [],
            "_model_module": "@jupyter-widgets/controls",
            "_model_module_version": "1.5.0",
            "_model_name": "HTMLModel",
            "_view_count": null,
            "_view_module": "@jupyter-widgets/controls",
            "_view_module_version": "1.5.0",
            "_view_name": "HTMLView",
            "description": "",
            "description_tooltip": null,
            "layout": "IPY_MODEL_5916414eab7849439789c30c2123d7d4",
            "placeholder": "​",
            "style": "IPY_MODEL_83ff030bae254d38b99866d5baffe5fa",
            "value": "preprocessor_config.json: 100%"
          }
        },
        "b7436c275f574c58957e275e00f3a2fa": {
          "model_module": "@jupyter-widgets/controls",
          "model_name": "FloatProgressModel",
          "model_module_version": "1.5.0",
          "state": {
            "_dom_classes": [],
            "_model_module": "@jupyter-widgets/controls",
            "_model_module_version": "1.5.0",
            "_model_name": "FloatProgressModel",
            "_view_count": null,
            "_view_module": "@jupyter-widgets/controls",
            "_view_module_version": "1.5.0",
            "_view_name": "ProgressView",
            "bar_style": "success",
            "description": "",
            "description_tooltip": null,
            "layout": "IPY_MODEL_a6672f5efb4f448aa2ae2fb770a46204",
            "max": 160,
            "min": 0,
            "orientation": "horizontal",
            "style": "IPY_MODEL_4dc8834986d34353abba602697421bd2",
            "value": 160
          }
        },
        "af7e76dd3dd343be9fdec56f08c9713a": {
          "model_module": "@jupyter-widgets/controls",
          "model_name": "HTMLModel",
          "model_module_version": "1.5.0",
          "state": {
            "_dom_classes": [],
            "_model_module": "@jupyter-widgets/controls",
            "_model_module_version": "1.5.0",
            "_model_name": "HTMLModel",
            "_view_count": null,
            "_view_module": "@jupyter-widgets/controls",
            "_view_module_version": "1.5.0",
            "_view_name": "HTMLView",
            "description": "",
            "description_tooltip": null,
            "layout": "IPY_MODEL_3a9a8cc5e2cc411e96f5ad81014404ae",
            "placeholder": "​",
            "style": "IPY_MODEL_aefba67d7167400195c1fd5fc6d78652",
            "value": " 160/160 [00:00&lt;00:00, 18.5kB/s]"
          }
        },
        "008bfe7282f441fd87d0b7eb6a81b4c1": {
          "model_module": "@jupyter-widgets/base",
          "model_name": "LayoutModel",
          "model_module_version": "1.2.0",
          "state": {
            "_model_module": "@jupyter-widgets/base",
            "_model_module_version": "1.2.0",
            "_model_name": "LayoutModel",
            "_view_count": null,
            "_view_module": "@jupyter-widgets/base",
            "_view_module_version": "1.2.0",
            "_view_name": "LayoutView",
            "align_content": null,
            "align_items": null,
            "align_self": null,
            "border": null,
            "bottom": null,
            "display": null,
            "flex": null,
            "flex_flow": null,
            "grid_area": null,
            "grid_auto_columns": null,
            "grid_auto_flow": null,
            "grid_auto_rows": null,
            "grid_column": null,
            "grid_gap": null,
            "grid_row": null,
            "grid_template_areas": null,
            "grid_template_columns": null,
            "grid_template_rows": null,
            "height": null,
            "justify_content": null,
            "justify_items": null,
            "left": null,
            "margin": null,
            "max_height": null,
            "max_width": null,
            "min_height": null,
            "min_width": null,
            "object_fit": null,
            "object_position": null,
            "order": null,
            "overflow": null,
            "overflow_x": null,
            "overflow_y": null,
            "padding": null,
            "right": null,
            "top": null,
            "visibility": null,
            "width": null
          }
        },
        "5916414eab7849439789c30c2123d7d4": {
          "model_module": "@jupyter-widgets/base",
          "model_name": "LayoutModel",
          "model_module_version": "1.2.0",
          "state": {
            "_model_module": "@jupyter-widgets/base",
            "_model_module_version": "1.2.0",
            "_model_name": "LayoutModel",
            "_view_count": null,
            "_view_module": "@jupyter-widgets/base",
            "_view_module_version": "1.2.0",
            "_view_name": "LayoutView",
            "align_content": null,
            "align_items": null,
            "align_self": null,
            "border": null,
            "bottom": null,
            "display": null,
            "flex": null,
            "flex_flow": null,
            "grid_area": null,
            "grid_auto_columns": null,
            "grid_auto_flow": null,
            "grid_auto_rows": null,
            "grid_column": null,
            "grid_gap": null,
            "grid_row": null,
            "grid_template_areas": null,
            "grid_template_columns": null,
            "grid_template_rows": null,
            "height": null,
            "justify_content": null,
            "justify_items": null,
            "left": null,
            "margin": null,
            "max_height": null,
            "max_width": null,
            "min_height": null,
            "min_width": null,
            "object_fit": null,
            "object_position": null,
            "order": null,
            "overflow": null,
            "overflow_x": null,
            "overflow_y": null,
            "padding": null,
            "right": null,
            "top": null,
            "visibility": null,
            "width": null
          }
        },
        "83ff030bae254d38b99866d5baffe5fa": {
          "model_module": "@jupyter-widgets/controls",
          "model_name": "DescriptionStyleModel",
          "model_module_version": "1.5.0",
          "state": {
            "_model_module": "@jupyter-widgets/controls",
            "_model_module_version": "1.5.0",
            "_model_name": "DescriptionStyleModel",
            "_view_count": null,
            "_view_module": "@jupyter-widgets/base",
            "_view_module_version": "1.2.0",
            "_view_name": "StyleView",
            "description_width": ""
          }
        },
        "a6672f5efb4f448aa2ae2fb770a46204": {
          "model_module": "@jupyter-widgets/base",
          "model_name": "LayoutModel",
          "model_module_version": "1.2.0",
          "state": {
            "_model_module": "@jupyter-widgets/base",
            "_model_module_version": "1.2.0",
            "_model_name": "LayoutModel",
            "_view_count": null,
            "_view_module": "@jupyter-widgets/base",
            "_view_module_version": "1.2.0",
            "_view_name": "LayoutView",
            "align_content": null,
            "align_items": null,
            "align_self": null,
            "border": null,
            "bottom": null,
            "display": null,
            "flex": null,
            "flex_flow": null,
            "grid_area": null,
            "grid_auto_columns": null,
            "grid_auto_flow": null,
            "grid_auto_rows": null,
            "grid_column": null,
            "grid_gap": null,
            "grid_row": null,
            "grid_template_areas": null,
            "grid_template_columns": null,
            "grid_template_rows": null,
            "height": null,
            "justify_content": null,
            "justify_items": null,
            "left": null,
            "margin": null,
            "max_height": null,
            "max_width": null,
            "min_height": null,
            "min_width": null,
            "object_fit": null,
            "object_position": null,
            "order": null,
            "overflow": null,
            "overflow_x": null,
            "overflow_y": null,
            "padding": null,
            "right": null,
            "top": null,
            "visibility": null,
            "width": null
          }
        },
        "4dc8834986d34353abba602697421bd2": {
          "model_module": "@jupyter-widgets/controls",
          "model_name": "ProgressStyleModel",
          "model_module_version": "1.5.0",
          "state": {
            "_model_module": "@jupyter-widgets/controls",
            "_model_module_version": "1.5.0",
            "_model_name": "ProgressStyleModel",
            "_view_count": null,
            "_view_module": "@jupyter-widgets/base",
            "_view_module_version": "1.2.0",
            "_view_name": "StyleView",
            "bar_color": null,
            "description_width": ""
          }
        },
        "3a9a8cc5e2cc411e96f5ad81014404ae": {
          "model_module": "@jupyter-widgets/base",
          "model_name": "LayoutModel",
          "model_module_version": "1.2.0",
          "state": {
            "_model_module": "@jupyter-widgets/base",
            "_model_module_version": "1.2.0",
            "_model_name": "LayoutModel",
            "_view_count": null,
            "_view_module": "@jupyter-widgets/base",
            "_view_module_version": "1.2.0",
            "_view_name": "LayoutView",
            "align_content": null,
            "align_items": null,
            "align_self": null,
            "border": null,
            "bottom": null,
            "display": null,
            "flex": null,
            "flex_flow": null,
            "grid_area": null,
            "grid_auto_columns": null,
            "grid_auto_flow": null,
            "grid_auto_rows": null,
            "grid_column": null,
            "grid_gap": null,
            "grid_row": null,
            "grid_template_areas": null,
            "grid_template_columns": null,
            "grid_template_rows": null,
            "height": null,
            "justify_content": null,
            "justify_items": null,
            "left": null,
            "margin": null,
            "max_height": null,
            "max_width": null,
            "min_height": null,
            "min_width": null,
            "object_fit": null,
            "object_position": null,
            "order": null,
            "overflow": null,
            "overflow_x": null,
            "overflow_y": null,
            "padding": null,
            "right": null,
            "top": null,
            "visibility": null,
            "width": null
          }
        },
        "aefba67d7167400195c1fd5fc6d78652": {
          "model_module": "@jupyter-widgets/controls",
          "model_name": "DescriptionStyleModel",
          "model_module_version": "1.5.0",
          "state": {
            "_model_module": "@jupyter-widgets/controls",
            "_model_module_version": "1.5.0",
            "_model_name": "DescriptionStyleModel",
            "_view_count": null,
            "_view_module": "@jupyter-widgets/base",
            "_view_module_version": "1.2.0",
            "_view_name": "StyleView",
            "description_width": ""
          }
        },
        "2bc4bcb67c6f4a2da870dc17e2ecd323": {
          "model_module": "@jupyter-widgets/controls",
          "model_name": "HBoxModel",
          "model_module_version": "1.5.0",
          "state": {
            "_dom_classes": [],
            "_model_module": "@jupyter-widgets/controls",
            "_model_module_version": "1.5.0",
            "_model_name": "HBoxModel",
            "_view_count": null,
            "_view_module": "@jupyter-widgets/controls",
            "_view_module_version": "1.5.0",
            "_view_name": "HBoxView",
            "box_style": "",
            "children": [
              "IPY_MODEL_fba18d949b404e6083ad53c1cfa72cd0",
              "IPY_MODEL_e7bcf20990ce4798aa7daab2f178aa7d",
              "IPY_MODEL_81c00d016633491ea84415b8f71f22b9"
            ],
            "layout": "IPY_MODEL_d19f2632f3044e7b9347e6c24a3114c7"
          }
        },
        "fba18d949b404e6083ad53c1cfa72cd0": {
          "model_module": "@jupyter-widgets/controls",
          "model_name": "HTMLModel",
          "model_module_version": "1.5.0",
          "state": {
            "_dom_classes": [],
            "_model_module": "@jupyter-widgets/controls",
            "_model_module_version": "1.5.0",
            "_model_name": "HTMLModel",
            "_view_count": null,
            "_view_module": "@jupyter-widgets/controls",
            "_view_module_version": "1.5.0",
            "_view_name": "HTMLView",
            "description": "",
            "description_tooltip": null,
            "layout": "IPY_MODEL_ce73640b0e5e4922a99b97a0f27435ac",
            "placeholder": "​",
            "style": "IPY_MODEL_4f0a5e89035d46c0a2af8c10f0de4fb8",
            "value": "config.json: 100%"
          }
        },
        "e7bcf20990ce4798aa7daab2f178aa7d": {
          "model_module": "@jupyter-widgets/controls",
          "model_name": "FloatProgressModel",
          "model_module_version": "1.5.0",
          "state": {
            "_dom_classes": [],
            "_model_module": "@jupyter-widgets/controls",
            "_model_module_version": "1.5.0",
            "_model_name": "FloatProgressModel",
            "_view_count": null,
            "_view_module": "@jupyter-widgets/controls",
            "_view_module_version": "1.5.0",
            "_view_name": "ProgressView",
            "bar_style": "success",
            "description": "",
            "description_tooltip": null,
            "layout": "IPY_MODEL_2c2d2d3900eb433b8680101a93958a85",
            "max": 69665,
            "min": 0,
            "orientation": "horizontal",
            "style": "IPY_MODEL_8f9cc9b3ad024a04b40cc4b4f6397e69",
            "value": 69665
          }
        },
        "81c00d016633491ea84415b8f71f22b9": {
          "model_module": "@jupyter-widgets/controls",
          "model_name": "HTMLModel",
          "model_module_version": "1.5.0",
          "state": {
            "_dom_classes": [],
            "_model_module": "@jupyter-widgets/controls",
            "_model_module_version": "1.5.0",
            "_model_name": "HTMLModel",
            "_view_count": null,
            "_view_module": "@jupyter-widgets/controls",
            "_view_module_version": "1.5.0",
            "_view_name": "HTMLView",
            "description": "",
            "description_tooltip": null,
            "layout": "IPY_MODEL_93cfe9df96144e7ca4559386adcf0bfd",
            "placeholder": "​",
            "style": "IPY_MODEL_f9bb00d1db4043f9b327db693fb81b12",
            "value": " 69.7k/69.7k [00:00&lt;00:00, 8.52MB/s]"
          }
        },
        "d19f2632f3044e7b9347e6c24a3114c7": {
          "model_module": "@jupyter-widgets/base",
          "model_name": "LayoutModel",
          "model_module_version": "1.2.0",
          "state": {
            "_model_module": "@jupyter-widgets/base",
            "_model_module_version": "1.2.0",
            "_model_name": "LayoutModel",
            "_view_count": null,
            "_view_module": "@jupyter-widgets/base",
            "_view_module_version": "1.2.0",
            "_view_name": "LayoutView",
            "align_content": null,
            "align_items": null,
            "align_self": null,
            "border": null,
            "bottom": null,
            "display": null,
            "flex": null,
            "flex_flow": null,
            "grid_area": null,
            "grid_auto_columns": null,
            "grid_auto_flow": null,
            "grid_auto_rows": null,
            "grid_column": null,
            "grid_gap": null,
            "grid_row": null,
            "grid_template_areas": null,
            "grid_template_columns": null,
            "grid_template_rows": null,
            "height": null,
            "justify_content": null,
            "justify_items": null,
            "left": null,
            "margin": null,
            "max_height": null,
            "max_width": null,
            "min_height": null,
            "min_width": null,
            "object_fit": null,
            "object_position": null,
            "order": null,
            "overflow": null,
            "overflow_x": null,
            "overflow_y": null,
            "padding": null,
            "right": null,
            "top": null,
            "visibility": null,
            "width": null
          }
        },
        "ce73640b0e5e4922a99b97a0f27435ac": {
          "model_module": "@jupyter-widgets/base",
          "model_name": "LayoutModel",
          "model_module_version": "1.2.0",
          "state": {
            "_model_module": "@jupyter-widgets/base",
            "_model_module_version": "1.2.0",
            "_model_name": "LayoutModel",
            "_view_count": null,
            "_view_module": "@jupyter-widgets/base",
            "_view_module_version": "1.2.0",
            "_view_name": "LayoutView",
            "align_content": null,
            "align_items": null,
            "align_self": null,
            "border": null,
            "bottom": null,
            "display": null,
            "flex": null,
            "flex_flow": null,
            "grid_area": null,
            "grid_auto_columns": null,
            "grid_auto_flow": null,
            "grid_auto_rows": null,
            "grid_column": null,
            "grid_gap": null,
            "grid_row": null,
            "grid_template_areas": null,
            "grid_template_columns": null,
            "grid_template_rows": null,
            "height": null,
            "justify_content": null,
            "justify_items": null,
            "left": null,
            "margin": null,
            "max_height": null,
            "max_width": null,
            "min_height": null,
            "min_width": null,
            "object_fit": null,
            "object_position": null,
            "order": null,
            "overflow": null,
            "overflow_x": null,
            "overflow_y": null,
            "padding": null,
            "right": null,
            "top": null,
            "visibility": null,
            "width": null
          }
        },
        "4f0a5e89035d46c0a2af8c10f0de4fb8": {
          "model_module": "@jupyter-widgets/controls",
          "model_name": "DescriptionStyleModel",
          "model_module_version": "1.5.0",
          "state": {
            "_model_module": "@jupyter-widgets/controls",
            "_model_module_version": "1.5.0",
            "_model_name": "DescriptionStyleModel",
            "_view_count": null,
            "_view_module": "@jupyter-widgets/base",
            "_view_module_version": "1.2.0",
            "_view_name": "StyleView",
            "description_width": ""
          }
        },
        "2c2d2d3900eb433b8680101a93958a85": {
          "model_module": "@jupyter-widgets/base",
          "model_name": "LayoutModel",
          "model_module_version": "1.2.0",
          "state": {
            "_model_module": "@jupyter-widgets/base",
            "_model_module_version": "1.2.0",
            "_model_name": "LayoutModel",
            "_view_count": null,
            "_view_module": "@jupyter-widgets/base",
            "_view_module_version": "1.2.0",
            "_view_name": "LayoutView",
            "align_content": null,
            "align_items": null,
            "align_self": null,
            "border": null,
            "bottom": null,
            "display": null,
            "flex": null,
            "flex_flow": null,
            "grid_area": null,
            "grid_auto_columns": null,
            "grid_auto_flow": null,
            "grid_auto_rows": null,
            "grid_column": null,
            "grid_gap": null,
            "grid_row": null,
            "grid_template_areas": null,
            "grid_template_columns": null,
            "grid_template_rows": null,
            "height": null,
            "justify_content": null,
            "justify_items": null,
            "left": null,
            "margin": null,
            "max_height": null,
            "max_width": null,
            "min_height": null,
            "min_width": null,
            "object_fit": null,
            "object_position": null,
            "order": null,
            "overflow": null,
            "overflow_x": null,
            "overflow_y": null,
            "padding": null,
            "right": null,
            "top": null,
            "visibility": null,
            "width": null
          }
        },
        "8f9cc9b3ad024a04b40cc4b4f6397e69": {
          "model_module": "@jupyter-widgets/controls",
          "model_name": "ProgressStyleModel",
          "model_module_version": "1.5.0",
          "state": {
            "_model_module": "@jupyter-widgets/controls",
            "_model_module_version": "1.5.0",
            "_model_name": "ProgressStyleModel",
            "_view_count": null,
            "_view_module": "@jupyter-widgets/base",
            "_view_module_version": "1.2.0",
            "_view_name": "StyleView",
            "bar_color": null,
            "description_width": ""
          }
        },
        "93cfe9df96144e7ca4559386adcf0bfd": {
          "model_module": "@jupyter-widgets/base",
          "model_name": "LayoutModel",
          "model_module_version": "1.2.0",
          "state": {
            "_model_module": "@jupyter-widgets/base",
            "_model_module_version": "1.2.0",
            "_model_name": "LayoutModel",
            "_view_count": null,
            "_view_module": "@jupyter-widgets/base",
            "_view_module_version": "1.2.0",
            "_view_name": "LayoutView",
            "align_content": null,
            "align_items": null,
            "align_self": null,
            "border": null,
            "bottom": null,
            "display": null,
            "flex": null,
            "flex_flow": null,
            "grid_area": null,
            "grid_auto_columns": null,
            "grid_auto_flow": null,
            "grid_auto_rows": null,
            "grid_column": null,
            "grid_gap": null,
            "grid_row": null,
            "grid_template_areas": null,
            "grid_template_columns": null,
            "grid_template_rows": null,
            "height": null,
            "justify_content": null,
            "justify_items": null,
            "left": null,
            "margin": null,
            "max_height": null,
            "max_width": null,
            "min_height": null,
            "min_width": null,
            "object_fit": null,
            "object_position": null,
            "order": null,
            "overflow": null,
            "overflow_x": null,
            "overflow_y": null,
            "padding": null,
            "right": null,
            "top": null,
            "visibility": null,
            "width": null
          }
        },
        "f9bb00d1db4043f9b327db693fb81b12": {
          "model_module": "@jupyter-widgets/controls",
          "model_name": "DescriptionStyleModel",
          "model_module_version": "1.5.0",
          "state": {
            "_model_module": "@jupyter-widgets/controls",
            "_model_module_version": "1.5.0",
            "_model_name": "DescriptionStyleModel",
            "_view_count": null,
            "_view_module": "@jupyter-widgets/base",
            "_view_module_version": "1.2.0",
            "_view_name": "StyleView",
            "description_width": ""
          }
        },
        "739f8bc263f0428dba254d60272f1daa": {
          "model_module": "@jupyter-widgets/controls",
          "model_name": "HBoxModel",
          "model_module_version": "1.5.0",
          "state": {
            "_dom_classes": [],
            "_model_module": "@jupyter-widgets/controls",
            "_model_module_version": "1.5.0",
            "_model_name": "HBoxModel",
            "_view_count": null,
            "_view_module": "@jupyter-widgets/controls",
            "_view_module_version": "1.5.0",
            "_view_name": "HBoxView",
            "box_style": "",
            "children": [
              "IPY_MODEL_7f26634f7c964736a1ecbd7842d9fb1e",
              "IPY_MODEL_f1a525ee976747e8b0801ea469be8e84",
              "IPY_MODEL_68b58a4961264c1497ccf9a4dafe650c"
            ],
            "layout": "IPY_MODEL_ce91e3ff3c0945cabeeda4676a32ae03"
          }
        },
        "7f26634f7c964736a1ecbd7842d9fb1e": {
          "model_module": "@jupyter-widgets/controls",
          "model_name": "HTMLModel",
          "model_module_version": "1.5.0",
          "state": {
            "_dom_classes": [],
            "_model_module": "@jupyter-widgets/controls",
            "_model_module_version": "1.5.0",
            "_model_name": "HTMLModel",
            "_view_count": null,
            "_view_module": "@jupyter-widgets/controls",
            "_view_module_version": "1.5.0",
            "_view_name": "HTMLView",
            "description": "",
            "description_tooltip": null,
            "layout": "IPY_MODEL_b59637b523c645ef96f50156b161ead7",
            "placeholder": "​",
            "style": "IPY_MODEL_6112b654064c427da99a7428bee06e48",
            "value": "model.safetensors: 100%"
          }
        },
        "f1a525ee976747e8b0801ea469be8e84": {
          "model_module": "@jupyter-widgets/controls",
          "model_name": "FloatProgressModel",
          "model_module_version": "1.5.0",
          "state": {
            "_dom_classes": [],
            "_model_module": "@jupyter-widgets/controls",
            "_model_module_version": "1.5.0",
            "_model_name": "FloatProgressModel",
            "_view_count": null,
            "_view_module": "@jupyter-widgets/controls",
            "_view_module_version": "1.5.0",
            "_view_name": "ProgressView",
            "bar_style": "success",
            "description": "",
            "description_tooltip": null,
            "layout": "IPY_MODEL_0abe11fb2608481091cc641205c104da",
            "max": 346293852,
            "min": 0,
            "orientation": "horizontal",
            "style": "IPY_MODEL_cb8788e4177049f9926ab779004ba06b",
            "value": 346293852
          }
        },
        "68b58a4961264c1497ccf9a4dafe650c": {
          "model_module": "@jupyter-widgets/controls",
          "model_name": "HTMLModel",
          "model_module_version": "1.5.0",
          "state": {
            "_dom_classes": [],
            "_model_module": "@jupyter-widgets/controls",
            "_model_module_version": "1.5.0",
            "_model_name": "HTMLModel",
            "_view_count": null,
            "_view_module": "@jupyter-widgets/controls",
            "_view_module_version": "1.5.0",
            "_view_name": "HTMLView",
            "description": "",
            "description_tooltip": null,
            "layout": "IPY_MODEL_869666950d7c45d7b8e39ef98640e82f",
            "placeholder": "​",
            "style": "IPY_MODEL_aa037a4de7894f83ada0c2392c976b40",
            "value": " 346M/346M [00:00&lt;00:00, 406MB/s]"
          }
        },
        "ce91e3ff3c0945cabeeda4676a32ae03": {
          "model_module": "@jupyter-widgets/base",
          "model_name": "LayoutModel",
          "model_module_version": "1.2.0",
          "state": {
            "_model_module": "@jupyter-widgets/base",
            "_model_module_version": "1.2.0",
            "_model_name": "LayoutModel",
            "_view_count": null,
            "_view_module": "@jupyter-widgets/base",
            "_view_module_version": "1.2.0",
            "_view_name": "LayoutView",
            "align_content": null,
            "align_items": null,
            "align_self": null,
            "border": null,
            "bottom": null,
            "display": null,
            "flex": null,
            "flex_flow": null,
            "grid_area": null,
            "grid_auto_columns": null,
            "grid_auto_flow": null,
            "grid_auto_rows": null,
            "grid_column": null,
            "grid_gap": null,
            "grid_row": null,
            "grid_template_areas": null,
            "grid_template_columns": null,
            "grid_template_rows": null,
            "height": null,
            "justify_content": null,
            "justify_items": null,
            "left": null,
            "margin": null,
            "max_height": null,
            "max_width": null,
            "min_height": null,
            "min_width": null,
            "object_fit": null,
            "object_position": null,
            "order": null,
            "overflow": null,
            "overflow_x": null,
            "overflow_y": null,
            "padding": null,
            "right": null,
            "top": null,
            "visibility": null,
            "width": null
          }
        },
        "b59637b523c645ef96f50156b161ead7": {
          "model_module": "@jupyter-widgets/base",
          "model_name": "LayoutModel",
          "model_module_version": "1.2.0",
          "state": {
            "_model_module": "@jupyter-widgets/base",
            "_model_module_version": "1.2.0",
            "_model_name": "LayoutModel",
            "_view_count": null,
            "_view_module": "@jupyter-widgets/base",
            "_view_module_version": "1.2.0",
            "_view_name": "LayoutView",
            "align_content": null,
            "align_items": null,
            "align_self": null,
            "border": null,
            "bottom": null,
            "display": null,
            "flex": null,
            "flex_flow": null,
            "grid_area": null,
            "grid_auto_columns": null,
            "grid_auto_flow": null,
            "grid_auto_rows": null,
            "grid_column": null,
            "grid_gap": null,
            "grid_row": null,
            "grid_template_areas": null,
            "grid_template_columns": null,
            "grid_template_rows": null,
            "height": null,
            "justify_content": null,
            "justify_items": null,
            "left": null,
            "margin": null,
            "max_height": null,
            "max_width": null,
            "min_height": null,
            "min_width": null,
            "object_fit": null,
            "object_position": null,
            "order": null,
            "overflow": null,
            "overflow_x": null,
            "overflow_y": null,
            "padding": null,
            "right": null,
            "top": null,
            "visibility": null,
            "width": null
          }
        },
        "6112b654064c427da99a7428bee06e48": {
          "model_module": "@jupyter-widgets/controls",
          "model_name": "DescriptionStyleModel",
          "model_module_version": "1.5.0",
          "state": {
            "_model_module": "@jupyter-widgets/controls",
            "_model_module_version": "1.5.0",
            "_model_name": "DescriptionStyleModel",
            "_view_count": null,
            "_view_module": "@jupyter-widgets/base",
            "_view_module_version": "1.2.0",
            "_view_name": "StyleView",
            "description_width": ""
          }
        },
        "0abe11fb2608481091cc641205c104da": {
          "model_module": "@jupyter-widgets/base",
          "model_name": "LayoutModel",
          "model_module_version": "1.2.0",
          "state": {
            "_model_module": "@jupyter-widgets/base",
            "_model_module_version": "1.2.0",
            "_model_name": "LayoutModel",
            "_view_count": null,
            "_view_module": "@jupyter-widgets/base",
            "_view_module_version": "1.2.0",
            "_view_name": "LayoutView",
            "align_content": null,
            "align_items": null,
            "align_self": null,
            "border": null,
            "bottom": null,
            "display": null,
            "flex": null,
            "flex_flow": null,
            "grid_area": null,
            "grid_auto_columns": null,
            "grid_auto_flow": null,
            "grid_auto_rows": null,
            "grid_column": null,
            "grid_gap": null,
            "grid_row": null,
            "grid_template_areas": null,
            "grid_template_columns": null,
            "grid_template_rows": null,
            "height": null,
            "justify_content": null,
            "justify_items": null,
            "left": null,
            "margin": null,
            "max_height": null,
            "max_width": null,
            "min_height": null,
            "min_width": null,
            "object_fit": null,
            "object_position": null,
            "order": null,
            "overflow": null,
            "overflow_x": null,
            "overflow_y": null,
            "padding": null,
            "right": null,
            "top": null,
            "visibility": null,
            "width": null
          }
        },
        "cb8788e4177049f9926ab779004ba06b": {
          "model_module": "@jupyter-widgets/controls",
          "model_name": "ProgressStyleModel",
          "model_module_version": "1.5.0",
          "state": {
            "_model_module": "@jupyter-widgets/controls",
            "_model_module_version": "1.5.0",
            "_model_name": "ProgressStyleModel",
            "_view_count": null,
            "_view_module": "@jupyter-widgets/base",
            "_view_module_version": "1.2.0",
            "_view_name": "StyleView",
            "bar_color": null,
            "description_width": ""
          }
        },
        "869666950d7c45d7b8e39ef98640e82f": {
          "model_module": "@jupyter-widgets/base",
          "model_name": "LayoutModel",
          "model_module_version": "1.2.0",
          "state": {
            "_model_module": "@jupyter-widgets/base",
            "_model_module_version": "1.2.0",
            "_model_name": "LayoutModel",
            "_view_count": null,
            "_view_module": "@jupyter-widgets/base",
            "_view_module_version": "1.2.0",
            "_view_name": "LayoutView",
            "align_content": null,
            "align_items": null,
            "align_self": null,
            "border": null,
            "bottom": null,
            "display": null,
            "flex": null,
            "flex_flow": null,
            "grid_area": null,
            "grid_auto_columns": null,
            "grid_auto_flow": null,
            "grid_auto_rows": null,
            "grid_column": null,
            "grid_gap": null,
            "grid_row": null,
            "grid_template_areas": null,
            "grid_template_columns": null,
            "grid_template_rows": null,
            "height": null,
            "justify_content": null,
            "justify_items": null,
            "left": null,
            "margin": null,
            "max_height": null,
            "max_width": null,
            "min_height": null,
            "min_width": null,
            "object_fit": null,
            "object_position": null,
            "order": null,
            "overflow": null,
            "overflow_x": null,
            "overflow_y": null,
            "padding": null,
            "right": null,
            "top": null,
            "visibility": null,
            "width": null
          }
        },
        "aa037a4de7894f83ada0c2392c976b40": {
          "model_module": "@jupyter-widgets/controls",
          "model_name": "DescriptionStyleModel",
          "model_module_version": "1.5.0",
          "state": {
            "_model_module": "@jupyter-widgets/controls",
            "_model_module_version": "1.5.0",
            "_model_name": "DescriptionStyleModel",
            "_view_count": null,
            "_view_module": "@jupyter-widgets/base",
            "_view_module_version": "1.2.0",
            "_view_name": "StyleView",
            "description_width": ""
          }
        }
      }
    }
  },
  "cells": [
    {
      "cell_type": "markdown",
      "metadata": {
        "id": "view-in-github",
        "colab_type": "text"
      },
      "source": [
        "<a href=\"https://colab.research.google.com/github/namesarnav/SimMIM/blob/main/ViT_MIM.ipynb\" target=\"_parent\"><img src=\"https://colab.research.google.com/assets/colab-badge.svg\" alt=\"Open In Colab\"/></a>"
      ]
    },
    {
      "cell_type": "code",
      "source": [
        "!pip install wandb"
      ],
      "metadata": {
        "colab": {
          "base_uri": "https://localhost:8080/"
        },
        "id": "1nS7KdeOsb8Q",
        "outputId": "fea5eef7-1c25-4f58-d5a2-69650c93721f"
      },
      "execution_count": 1,
      "outputs": [
        {
          "output_type": "stream",
          "name": "stdout",
          "text": [
            "Requirement already satisfied: wandb in /usr/local/lib/python3.11/dist-packages (0.19.9)\n",
            "Requirement already satisfied: click!=8.0.0,>=7.1 in /usr/local/lib/python3.11/dist-packages (from wandb) (8.1.8)\n",
            "Requirement already satisfied: docker-pycreds>=0.4.0 in /usr/local/lib/python3.11/dist-packages (from wandb) (0.4.0)\n",
            "Requirement already satisfied: gitpython!=3.1.29,>=1.0.0 in /usr/local/lib/python3.11/dist-packages (from wandb) (3.1.44)\n",
            "Requirement already satisfied: platformdirs in /usr/local/lib/python3.11/dist-packages (from wandb) (4.3.7)\n",
            "Requirement already satisfied: protobuf!=4.21.0,!=5.28.0,<6,>=3.19.0 in /usr/local/lib/python3.11/dist-packages (from wandb) (5.29.4)\n",
            "Requirement already satisfied: psutil>=5.0.0 in /usr/local/lib/python3.11/dist-packages (from wandb) (5.9.5)\n",
            "Requirement already satisfied: pydantic<3 in /usr/local/lib/python3.11/dist-packages (from wandb) (2.11.3)\n",
            "Requirement already satisfied: pyyaml in /usr/local/lib/python3.11/dist-packages (from wandb) (6.0.2)\n",
            "Requirement already satisfied: requests<3,>=2.0.0 in /usr/local/lib/python3.11/dist-packages (from wandb) (2.32.3)\n",
            "Requirement already satisfied: sentry-sdk>=2.0.0 in /usr/local/lib/python3.11/dist-packages (from wandb) (2.25.1)\n",
            "Requirement already satisfied: setproctitle in /usr/local/lib/python3.11/dist-packages (from wandb) (1.3.5)\n",
            "Requirement already satisfied: setuptools in /usr/local/lib/python3.11/dist-packages (from wandb) (75.2.0)\n",
            "Requirement already satisfied: typing-extensions<5,>=4.4 in /usr/local/lib/python3.11/dist-packages (from wandb) (4.13.1)\n",
            "Requirement already satisfied: six>=1.4.0 in /usr/local/lib/python3.11/dist-packages (from docker-pycreds>=0.4.0->wandb) (1.17.0)\n",
            "Requirement already satisfied: gitdb<5,>=4.0.1 in /usr/local/lib/python3.11/dist-packages (from gitpython!=3.1.29,>=1.0.0->wandb) (4.0.12)\n",
            "Requirement already satisfied: annotated-types>=0.6.0 in /usr/local/lib/python3.11/dist-packages (from pydantic<3->wandb) (0.7.0)\n",
            "Requirement already satisfied: pydantic-core==2.33.1 in /usr/local/lib/python3.11/dist-packages (from pydantic<3->wandb) (2.33.1)\n",
            "Requirement already satisfied: typing-inspection>=0.4.0 in /usr/local/lib/python3.11/dist-packages (from pydantic<3->wandb) (0.4.0)\n",
            "Requirement already satisfied: charset-normalizer<4,>=2 in /usr/local/lib/python3.11/dist-packages (from requests<3,>=2.0.0->wandb) (3.4.1)\n",
            "Requirement already satisfied: idna<4,>=2.5 in /usr/local/lib/python3.11/dist-packages (from requests<3,>=2.0.0->wandb) (3.10)\n",
            "Requirement already satisfied: urllib3<3,>=1.21.1 in /usr/local/lib/python3.11/dist-packages (from requests<3,>=2.0.0->wandb) (2.3.0)\n",
            "Requirement already satisfied: certifi>=2017.4.17 in /usr/local/lib/python3.11/dist-packages (from requests<3,>=2.0.0->wandb) (2025.1.31)\n",
            "Requirement already satisfied: smmap<6,>=3.0.1 in /usr/local/lib/python3.11/dist-packages (from gitdb<5,>=4.0.1->gitpython!=3.1.29,>=1.0.0->wandb) (5.0.2)\n"
          ]
        }
      ]
    },
    {
      "cell_type": "code",
      "source": [
        "import torch\n",
        "import torch.nn as nn\n",
        "import torch.optim as optim\n",
        "import torchvision.transforms as transforms\n",
        "import torchvision.datasets as datasets\n",
        "import numpy as np\n",
        "import matplotlib.pyplot as plt\n",
        "from transformers import ViTModel, ViTFeatureExtractor\n",
        "import time  # For tracking training duration\n",
        "import wandb  # Import Weights & Biases"
      ],
      "metadata": {
        "id": "jvCWYxH7sagZ"
      },
      "execution_count": 2,
      "outputs": []
    },
    {
      "cell_type": "code",
      "source": [
        "wandb.init(project=\"SimMIM-CIFAR100\", config={\"epochs\": 5, \"batch_size\": 300, \"learning_rate\": 2e-5})"
      ],
      "metadata": {
        "colab": {
          "base_uri": "https://localhost:8080/",
          "height": 297
        },
        "id": "kehyAQb5sfba",
        "outputId": "fa0c0e74-3882-4f67-b18a-2d8b864b3f06"
      },
      "execution_count": 3,
      "outputs": [
        {
          "output_type": "stream",
          "name": "stderr",
          "text": [
            "\u001b[34m\u001b[1mwandb\u001b[0m: Using wandb-core as the SDK backend.  Please refer to https://wandb.me/wandb-core for more information.\n"
          ]
        },
        {
          "output_type": "display_data",
          "data": {
            "text/plain": [
              "<IPython.core.display.Javascript object>"
            ],
            "application/javascript": [
              "\n",
              "        window._wandbApiKey = new Promise((resolve, reject) => {\n",
              "            function loadScript(url) {\n",
              "            return new Promise(function(resolve, reject) {\n",
              "                let newScript = document.createElement(\"script\");\n",
              "                newScript.onerror = reject;\n",
              "                newScript.onload = resolve;\n",
              "                document.body.appendChild(newScript);\n",
              "                newScript.src = url;\n",
              "            });\n",
              "            }\n",
              "            loadScript(\"https://cdn.jsdelivr.net/npm/postmate/build/postmate.min.js\").then(() => {\n",
              "            const iframe = document.createElement('iframe')\n",
              "            iframe.style.cssText = \"width:0;height:0;border:none\"\n",
              "            document.body.appendChild(iframe)\n",
              "            const handshake = new Postmate({\n",
              "                container: iframe,\n",
              "                url: 'https://wandb.ai/authorize'\n",
              "            });\n",
              "            const timeout = setTimeout(() => reject(\"Couldn't auto authenticate\"), 5000)\n",
              "            handshake.then(function(child) {\n",
              "                child.on('authorize', data => {\n",
              "                    clearTimeout(timeout)\n",
              "                    resolve(data)\n",
              "                });\n",
              "            });\n",
              "            })\n",
              "        });\n",
              "    "
            ]
          },
          "metadata": {}
        },
        {
          "output_type": "stream",
          "name": "stderr",
          "text": [
            "\u001b[34m\u001b[1mwandb\u001b[0m: Logging into wandb.ai. (Learn how to deploy a W&B server locally: https://wandb.me/wandb-server)\n",
            "\u001b[34m\u001b[1mwandb\u001b[0m: You can find your API key in your browser here: https://wandb.ai/authorize\n",
            "wandb: Paste an API key from your profile and hit enter:"
          ]
        },
        {
          "name": "stdout",
          "output_type": "stream",
          "text": [
            " ··········\n"
          ]
        },
        {
          "output_type": "stream",
          "name": "stderr",
          "text": [
            "\u001b[34m\u001b[1mwandb\u001b[0m: \u001b[33mWARNING\u001b[0m If you're specifying your api key in code, ensure this code is not shared publicly.\n",
            "\u001b[34m\u001b[1mwandb\u001b[0m: \u001b[33mWARNING\u001b[0m Consider setting the WANDB_API_KEY environment variable, or running `wandb login` from the command line.\n",
            "\u001b[34m\u001b[1mwandb\u001b[0m: No netrc file found, creating one.\n",
            "\u001b[34m\u001b[1mwandb\u001b[0m: Appending key for api.wandb.ai to your netrc file: /root/.netrc\n",
            "\u001b[34m\u001b[1mwandb\u001b[0m: Currently logged in as: \u001b[33mnamesarnav\u001b[0m (\u001b[33mnamesarnav-unt\u001b[0m) to \u001b[32mhttps://api.wandb.ai\u001b[0m. Use \u001b[1m`wandb login --relogin`\u001b[0m to force relogin\n"
          ]
        },
        {
          "output_type": "display_data",
          "data": {
            "text/plain": [
              "<IPython.core.display.HTML object>"
            ],
            "text/html": [
              "Tracking run with wandb version 0.19.9"
            ]
          },
          "metadata": {}
        },
        {
          "output_type": "display_data",
          "data": {
            "text/plain": [
              "<IPython.core.display.HTML object>"
            ],
            "text/html": [
              "Run data is saved locally in <code>/content/wandb/run-20250418_024921-uuqrzjdn</code>"
            ]
          },
          "metadata": {}
        },
        {
          "output_type": "display_data",
          "data": {
            "text/plain": [
              "<IPython.core.display.HTML object>"
            ],
            "text/html": [
              "Syncing run <strong><a href='https://wandb.ai/namesarnav-unt/SimMIM-CIFAR100/runs/uuqrzjdn' target=\"_blank\">whole-bee-3</a></strong> to <a href='https://wandb.ai/namesarnav-unt/SimMIM-CIFAR100' target=\"_blank\">Weights & Biases</a> (<a href='https://wandb.me/developer-guide' target=\"_blank\">docs</a>)<br>"
            ]
          },
          "metadata": {}
        },
        {
          "output_type": "display_data",
          "data": {
            "text/plain": [
              "<IPython.core.display.HTML object>"
            ],
            "text/html": [
              " View project at <a href='https://wandb.ai/namesarnav-unt/SimMIM-CIFAR100' target=\"_blank\">https://wandb.ai/namesarnav-unt/SimMIM-CIFAR100</a>"
            ]
          },
          "metadata": {}
        },
        {
          "output_type": "display_data",
          "data": {
            "text/plain": [
              "<IPython.core.display.HTML object>"
            ],
            "text/html": [
              " View run at <a href='https://wandb.ai/namesarnav-unt/SimMIM-CIFAR100/runs/uuqrzjdn' target=\"_blank\">https://wandb.ai/namesarnav-unt/SimMIM-CIFAR100/runs/uuqrzjdn</a>"
            ]
          },
          "metadata": {}
        },
        {
          "output_type": "execute_result",
          "data": {
            "text/html": [
              "<button onClick=\"this.nextSibling.style.display='block';this.style.display='none';\">Display W&B run</button><iframe src='https://wandb.ai/namesarnav-unt/SimMIM-CIFAR100/runs/uuqrzjdn?jupyter=true' style='border:none;width:100%;height:420px;display:none;'></iframe>"
            ],
            "text/plain": [
              "<wandb.sdk.wandb_run.Run at 0x7fcff47a7c10>"
            ]
          },
          "metadata": {},
          "execution_count": 3
        }
      ]
    },
    {
      "cell_type": "code",
      "source": [
        "# Use A100 GPU efficiently\n",
        "device = torch.device(\"cuda\" if torch.cuda.is_available() else \"cpu\")\n",
        "torch.backends.cudnn.benchmark = True  # Optimizes performance on A100\n",
        "\n",
        "# Load CIFAR-100 dataset\n",
        "transform = transforms.Compose([\n",
        "    transforms.Resize((224, 224)),  # Resize for ViT input\n",
        "    transforms.ToTensor()\n",
        "])\n",
        "\n",
        "trainset = datasets.CIFAR100(root=\"./data\", train=True, download=True, transform=transform)\n",
        "trainloader = torch.utils.data.DataLoader(trainset, batch_size=wandb.config.batch_size, shuffle=True, num_workers=8, pin_memory=True)\n",
        "\n",
        "# Load pre-trained Vision Transformer (backbone)\n",
        "model_name = \"google/vit-base-patch16-224\"\n",
        "feature_extractor = ViTFeatureExtractor.from_pretrained(model_name)\n",
        "backbone = ViTModel.from_pretrained(model_name).to(device)\n"
      ],
      "metadata": {
        "colab": {
          "base_uri": "https://localhost:8080/",
          "height": 359,
          "referenced_widgets": [
            "5e2f3d076fca49b681676e2a33eac6c8",
            "e4c3f3ee61b44511896a675a4cfb7145",
            "b7436c275f574c58957e275e00f3a2fa",
            "af7e76dd3dd343be9fdec56f08c9713a",
            "008bfe7282f441fd87d0b7eb6a81b4c1",
            "5916414eab7849439789c30c2123d7d4",
            "83ff030bae254d38b99866d5baffe5fa",
            "a6672f5efb4f448aa2ae2fb770a46204",
            "4dc8834986d34353abba602697421bd2",
            "3a9a8cc5e2cc411e96f5ad81014404ae",
            "aefba67d7167400195c1fd5fc6d78652",
            "2bc4bcb67c6f4a2da870dc17e2ecd323",
            "fba18d949b404e6083ad53c1cfa72cd0",
            "e7bcf20990ce4798aa7daab2f178aa7d",
            "81c00d016633491ea84415b8f71f22b9",
            "d19f2632f3044e7b9347e6c24a3114c7",
            "ce73640b0e5e4922a99b97a0f27435ac",
            "4f0a5e89035d46c0a2af8c10f0de4fb8",
            "2c2d2d3900eb433b8680101a93958a85",
            "8f9cc9b3ad024a04b40cc4b4f6397e69",
            "93cfe9df96144e7ca4559386adcf0bfd",
            "f9bb00d1db4043f9b327db693fb81b12",
            "739f8bc263f0428dba254d60272f1daa",
            "7f26634f7c964736a1ecbd7842d9fb1e",
            "f1a525ee976747e8b0801ea469be8e84",
            "68b58a4961264c1497ccf9a4dafe650c",
            "ce91e3ff3c0945cabeeda4676a32ae03",
            "b59637b523c645ef96f50156b161ead7",
            "6112b654064c427da99a7428bee06e48",
            "0abe11fb2608481091cc641205c104da",
            "cb8788e4177049f9926ab779004ba06b",
            "869666950d7c45d7b8e39ef98640e82f",
            "aa037a4de7894f83ada0c2392c976b40"
          ]
        },
        "id": "vqicD5OUs4Zm",
        "outputId": "83195d01-995c-40a0-f46a-be583592533e"
      },
      "execution_count": 4,
      "outputs": [
        {
          "output_type": "stream",
          "name": "stderr",
          "text": [
            "100%|██████████| 169M/169M [00:13<00:00, 12.8MB/s]\n",
            "/usr/local/lib/python3.11/dist-packages/huggingface_hub/utils/_auth.py:94: UserWarning: \n",
            "The secret `HF_TOKEN` does not exist in your Colab secrets.\n",
            "To authenticate with the Hugging Face Hub, create a token in your settings tab (https://huggingface.co/settings/tokens), set it as secret in your Google Colab and restart your session.\n",
            "You will be able to reuse this secret in all of your notebooks.\n",
            "Please note that authentication is recommended but still optional to access public models or datasets.\n",
            "  warnings.warn(\n"
          ]
        },
        {
          "output_type": "display_data",
          "data": {
            "text/plain": [
              "preprocessor_config.json:   0%|          | 0.00/160 [00:00<?, ?B/s]"
            ],
            "application/vnd.jupyter.widget-view+json": {
              "version_major": 2,
              "version_minor": 0,
              "model_id": "5e2f3d076fca49b681676e2a33eac6c8"
            }
          },
          "metadata": {}
        },
        {
          "output_type": "stream",
          "name": "stderr",
          "text": [
            "/usr/local/lib/python3.11/dist-packages/transformers/models/vit/feature_extraction_vit.py:28: FutureWarning: The class ViTFeatureExtractor is deprecated and will be removed in version 5 of Transformers. Please use ViTImageProcessor instead.\n",
            "  warnings.warn(\n"
          ]
        },
        {
          "output_type": "display_data",
          "data": {
            "text/plain": [
              "config.json:   0%|          | 0.00/69.7k [00:00<?, ?B/s]"
            ],
            "application/vnd.jupyter.widget-view+json": {
              "version_major": 2,
              "version_minor": 0,
              "model_id": "2bc4bcb67c6f4a2da870dc17e2ecd323"
            }
          },
          "metadata": {}
        },
        {
          "output_type": "stream",
          "name": "stderr",
          "text": [
            "Xet Storage is enabled for this repo, but the 'hf_xet' package is not installed. Falling back to regular HTTP download. For better performance, install the package with: `pip install huggingface_hub[hf_xet]` or `pip install hf_xet`\n",
            "WARNING:huggingface_hub.file_download:Xet Storage is enabled for this repo, but the 'hf_xet' package is not installed. Falling back to regular HTTP download. For better performance, install the package with: `pip install huggingface_hub[hf_xet]` or `pip install hf_xet`\n"
          ]
        },
        {
          "output_type": "display_data",
          "data": {
            "text/plain": [
              "model.safetensors:   0%|          | 0.00/346M [00:00<?, ?B/s]"
            ],
            "application/vnd.jupyter.widget-view+json": {
              "version_major": 2,
              "version_minor": 0,
              "model_id": "739f8bc263f0428dba254d60272f1daa"
            }
          },
          "metadata": {}
        },
        {
          "output_type": "stream",
          "name": "stderr",
          "text": [
            "Some weights of ViTModel were not initialized from the model checkpoint at google/vit-base-patch16-224 and are newly initialized: ['pooler.dense.bias', 'pooler.dense.weight']\n",
            "You should probably TRAIN this model on a down-stream task to be able to use it for predictions and inference.\n"
          ]
        }
      ]
    },
    {
      "cell_type": "code",
      "source": [
        "# Masking function\n",
        "def mask_image(image, mask_ratio=0.5, patch_size=32):\n",
        "    _, H, W = image.shape\n",
        "    num_patches_h = H // patch_size\n",
        "    num_patches_w = W // patch_size\n",
        "    total_patches = num_patches_h * num_patches_w\n",
        "    masked_indices = np.random.choice(total_patches, int(mask_ratio * total_patches), replace=False)\n",
        "\n",
        "    image_patches = image.unfold(1, patch_size, patch_size).unfold(2, patch_size, patch_size)\n",
        "    for idx in masked_indices:\n",
        "        row, col = divmod(idx, num_patches_w)\n",
        "        image_patches[:, row, col] = 0  # Mask out entire patch\n",
        "\n",
        "    return image\n",
        "\n",
        "# Define pixel reconstruction head (SimMIM-style)\n",
        "class PixelReconstructionHead(nn.Module):\n",
        "    def __init__(self, in_features, out_features=224*224*3):\n",
        "        super().__init__()\n",
        "        self.fc = nn.Linear(in_features, out_features)  # Predict raw pixel values\n",
        "    def forward(self, x):\n",
        "        return self.fc(x)\n",
        "\n",
        "reconstruction_head = PixelReconstructionHead(backbone.config.hidden_size).to(device)"
      ],
      "metadata": {
        "id": "JaoGJL7Ds535"
      },
      "execution_count": 5,
      "outputs": []
    },
    {
      "cell_type": "code",
      "source": [
        "torch.cuda.empty_cache()"
      ],
      "metadata": {
        "id": "lV_QWtjmxVFW"
      },
      "execution_count": 6,
      "outputs": []
    },
    {
      "cell_type": "code",
      "source": [
        "# Optimized mixed precision training setup\n",
        "scaler = torch.cuda.amp.GradScaler()  # Helps optimize computations on A100\n",
        "criterion = nn.L1Loss()  # Pixel regression loss\n",
        "optimizer = optim.AdamW(list(backbone.parameters()) + list(reconstruction_head.parameters()), lr=wandb.config.learning_rate)\n",
        "\n",
        "# Training loop with WandB logging\n",
        "num_epochs = wandb.config.epochs\n",
        "start_time = time.time()\n",
        "\n",
        "\n",
        "for epoch in range(num_epochs):\n",
        "    total_loss = 0\n",
        "    print(f\"\\n🚀 Starting Epoch {epoch+1}/{num_epochs} 🚀\")\n",
        "    try:\n",
        "        for batch_idx, (images, _) in enumerate(trainloader):\n",
        "            images = images.to(device)\n",
        "\n",
        "            # Apply structured masking\n",
        "            masked_images = torch.stack([mask_image(img) for img in images]).to(device)\n",
        "\n",
        "            # Forward pass with mixed precision\n",
        "            with torch.cuda.amp.autocast():\n",
        "                inputs = feature_extractor(masked_images, return_tensors=\"pt\")[\"pixel_values\"].to(device)\n",
        "                features = backbone(inputs).last_hidden_state.mean(dim=1)\n",
        "                reconstructed_pixels = reconstruction_head(features).view(-1, 3, 224, 224)\n",
        "                loss = criterion(reconstructed_pixels, images)\n",
        "\n",
        "            # Backpropagation\n",
        "            optimizer.zero_grad()\n",
        "            scaler.scale(loss).backward()\n",
        "            scaler.step(optimizer)\n",
        "            scaler.update()\n",
        "\n",
        "            total_loss += loss.item()\n",
        "\n",
        "            # Log metrics to WandB\n",
        "            wandb.log({\"batch_loss\": loss.item()})\n",
        "\n",
        "            # Display progress every 10 batches\n",
        "            if batch_idx % 10 == 0:\n",
        "                print(f\"🔄 Batch {batch_idx}/{len(trainloader)} - Loss: {loss.item():.4f}\")\n",
        "\n",
        "\n",
        "        torch.save({\n",
        "            'epoch': epoch,\n",
        "            'model_state_dict': backbone.state_dict(),\n",
        "            'optimizer_state_dict': optimizer.state_dict(),\n",
        "            'reconstruction_head_state_dict': reconstruction_head.state_dict(),\n",
        "        }, f\"simmim_checkpoint_epoch_{epoch}.pth\")\n",
        "\n",
        "\n",
        "        avg_loss = total_loss / len(trainloader)\n",
        "        wandb.log({\"epoch_loss\": avg_loss})\n",
        "        print(f\"✅ Epoch {epoch+1} Completed! Avg Loss: {avg_loss:.4f}\")\n",
        "\n",
        "    except OutOfMemoryError:\n",
        "        torch.cuda.empty_cache()\n",
        "        # checkpoint = torch.load(\"simmim_checkpoint_epoch_4.pth\", map_location=device)\n",
        "        # backbone.load_state_dict(checkpoint['model_state_dict'])\n",
        "        # reconstruction_head.load_state_dict(checkpoint['reconstruction_head_state_dict'])\n",
        "        # optimizer.load_state_dict(checkpoint['optimizer_state_dict'])\n",
        "\n",
        "# Display training duration\n",
        "end_time = time.time()\n",
        "print(f\"\\n🎉 Training Finished in {end_time - start_time:.2f} seconds 🎉\")\n",
        "wandb.log({\"training_time_seconds\": end_time - start_time})\n",
        "\n",
        "# Save model checkpoint\n",
        "torch.save({\n",
        "    'epoch': num_epochs,\n",
        "    'model_state_dict': backbone.state_dict(),\n",
        "    'optimizer_state_dict': optimizer.state_dict(),\n",
        "    'reconstruction_head_state_dict': reconstruction_head.state_dict(),\n",
        "}, \"simmim_model_checkpoint.pth\")\n",
        "\n",
        "wandb.save(\"simmim_model_checkpoint.pth\")  # Upload model to WandB\n",
        "print(f\"\\n✅ Model saved and logged to WandB ✅\")\n",
        "\n",
        "# Finish WandB run\n",
        "wandb.finish()\n",
        "\n"
      ],
      "metadata": {
        "colab": {
          "base_uri": "https://localhost:8080/",
          "height": 1000
        },
        "id": "DowzDcnSsZi3",
        "outputId": "3ed2ea40-5a92-4177-88b5-d687df6f5be0"
      },
      "execution_count": 8,
      "outputs": [
        {
          "output_type": "stream",
          "name": "stdout",
          "text": [
            "\n",
            "🚀 Starting Epoch 1/5 🚀\n"
          ]
        },
        {
          "output_type": "stream",
          "name": "stderr",
          "text": [
            "<ipython-input-8-682ffbbc6b68>:2: FutureWarning: `torch.cuda.amp.GradScaler(args...)` is deprecated. Please use `torch.amp.GradScaler('cuda', args...)` instead.\n",
            "  scaler = torch.cuda.amp.GradScaler()  # Helps optimize computations on A100\n",
            "<ipython-input-8-682ffbbc6b68>:22: FutureWarning: `torch.cuda.amp.autocast(args...)` is deprecated. Please use `torch.amp.autocast('cuda', args...)` instead.\n",
            "  with torch.cuda.amp.autocast():\n"
          ]
        },
        {
          "output_type": "stream",
          "name": "stdout",
          "text": [
            "🔄 Batch 0/167 - Loss: 0.3415\n",
            "🔄 Batch 10/167 - Loss: 0.3098\n",
            "🔄 Batch 20/167 - Loss: 0.2834\n",
            "🔄 Batch 30/167 - Loss: 0.2663\n",
            "🔄 Batch 40/167 - Loss: 0.2587\n",
            "🔄 Batch 50/167 - Loss: 0.2531\n",
            "🔄 Batch 60/167 - Loss: 0.2512\n",
            "🔄 Batch 70/167 - Loss: 0.2493\n",
            "🔄 Batch 80/167 - Loss: 0.2451\n",
            "🔄 Batch 90/167 - Loss: 0.2496\n",
            "🔄 Batch 100/167 - Loss: 0.2396\n",
            "🔄 Batch 110/167 - Loss: 0.2511\n",
            "🔄 Batch 120/167 - Loss: 0.2405\n",
            "🔄 Batch 130/167 - Loss: 0.2463\n",
            "🔄 Batch 140/167 - Loss: 0.2499\n",
            "🔄 Batch 150/167 - Loss: 0.2389\n",
            "🔄 Batch 160/167 - Loss: 0.2429\n",
            "✅ Epoch 1 Completed! Avg Loss: 0.2574\n",
            "\n",
            "🚀 Starting Epoch 2/5 🚀\n",
            "🔄 Batch 0/167 - Loss: 0.2444\n",
            "🔄 Batch 10/167 - Loss: 0.2416\n",
            "🔄 Batch 20/167 - Loss: 0.2431\n",
            "🔄 Batch 30/167 - Loss: 0.2496\n",
            "🔄 Batch 40/167 - Loss: 0.2431\n",
            "🔄 Batch 50/167 - Loss: 0.2479\n",
            "🔄 Batch 60/167 - Loss: 0.2344\n",
            "🔄 Batch 70/167 - Loss: 0.2460\n",
            "🔄 Batch 80/167 - Loss: 0.2465\n",
            "🔄 Batch 90/167 - Loss: 0.2510\n",
            "🔄 Batch 100/167 - Loss: 0.2471\n",
            "🔄 Batch 110/167 - Loss: 0.2392\n",
            "🔄 Batch 120/167 - Loss: 0.2458\n",
            "🔄 Batch 130/167 - Loss: 0.2440\n",
            "🔄 Batch 140/167 - Loss: 0.2399\n",
            "🔄 Batch 150/167 - Loss: 0.2442\n",
            "🔄 Batch 160/167 - Loss: 0.2408\n",
            "✅ Epoch 2 Completed! Avg Loss: 0.2438\n",
            "\n",
            "🚀 Starting Epoch 3/5 🚀\n",
            "🔄 Batch 0/167 - Loss: 0.2511\n",
            "🔄 Batch 10/167 - Loss: 0.2448\n",
            "🔄 Batch 20/167 - Loss: 0.2382\n",
            "🔄 Batch 30/167 - Loss: 0.2470\n",
            "🔄 Batch 40/167 - Loss: 0.2435\n",
            "🔄 Batch 50/167 - Loss: 0.2414\n",
            "🔄 Batch 60/167 - Loss: 0.2395\n",
            "🔄 Batch 70/167 - Loss: 0.2465\n",
            "🔄 Batch 80/167 - Loss: 0.2452\n",
            "🔄 Batch 90/167 - Loss: 0.2495\n",
            "🔄 Batch 100/167 - Loss: 0.2434\n",
            "🔄 Batch 110/167 - Loss: 0.2457\n",
            "🔄 Batch 120/167 - Loss: 0.2416\n",
            "🔄 Batch 130/167 - Loss: 0.2497\n",
            "🔄 Batch 140/167 - Loss: 0.2395\n",
            "🔄 Batch 150/167 - Loss: 0.2395\n",
            "🔄 Batch 160/167 - Loss: 0.2490\n",
            "✅ Epoch 3 Completed! Avg Loss: 0.2436\n",
            "\n",
            "🚀 Starting Epoch 4/5 🚀\n",
            "🔄 Batch 0/167 - Loss: 0.2447\n",
            "🔄 Batch 10/167 - Loss: 0.2548\n",
            "🔄 Batch 20/167 - Loss: 0.2439\n",
            "🔄 Batch 30/167 - Loss: 0.2428\n",
            "🔄 Batch 40/167 - Loss: 0.2442\n",
            "🔄 Batch 50/167 - Loss: 0.2361\n",
            "🔄 Batch 60/167 - Loss: 0.2430\n",
            "🔄 Batch 70/167 - Loss: 0.2365\n",
            "🔄 Batch 80/167 - Loss: 0.2362\n",
            "🔄 Batch 90/167 - Loss: 0.2471\n",
            "🔄 Batch 100/167 - Loss: 0.2397\n",
            "🔄 Batch 110/167 - Loss: 0.2427\n",
            "🔄 Batch 120/167 - Loss: 0.2491\n",
            "🔄 Batch 130/167 - Loss: 0.2434\n",
            "🔄 Batch 140/167 - Loss: 0.2430\n",
            "🔄 Batch 150/167 - Loss: 0.2421\n",
            "🔄 Batch 160/167 - Loss: 0.2405\n",
            "✅ Epoch 4 Completed! Avg Loss: 0.2438\n",
            "\n",
            "🚀 Starting Epoch 5/5 🚀\n",
            "🔄 Batch 0/167 - Loss: 0.2467\n",
            "🔄 Batch 10/167 - Loss: 0.2524\n",
            "🔄 Batch 20/167 - Loss: 0.2472\n",
            "🔄 Batch 30/167 - Loss: 0.2428\n",
            "🔄 Batch 40/167 - Loss: 0.2395\n",
            "🔄 Batch 50/167 - Loss: 0.2359\n",
            "🔄 Batch 60/167 - Loss: 0.2510\n",
            "🔄 Batch 70/167 - Loss: 0.2430\n",
            "🔄 Batch 80/167 - Loss: 0.2356\n",
            "🔄 Batch 90/167 - Loss: 0.2490\n",
            "🔄 Batch 100/167 - Loss: 0.2454\n",
            "🔄 Batch 110/167 - Loss: 0.2458\n",
            "🔄 Batch 120/167 - Loss: 0.2405\n",
            "🔄 Batch 130/167 - Loss: 0.2379\n",
            "🔄 Batch 140/167 - Loss: 0.2413\n",
            "🔄 Batch 150/167 - Loss: 0.2388\n",
            "🔄 Batch 160/167 - Loss: 0.2406\n",
            "✅ Epoch 5 Completed! Avg Loss: 0.2431\n",
            "\n",
            "🎉 Training Finished in 1735.34 seconds 🎉\n",
            "\n",
            "✅ Model saved and logged to WandB ✅\n"
          ]
        },
        {
          "output_type": "display_data",
          "data": {
            "text/plain": [
              "<IPython.core.display.HTML object>"
            ],
            "text/html": []
          },
          "metadata": {}
        },
        {
          "output_type": "display_data",
          "data": {
            "text/plain": [
              "<IPython.core.display.HTML object>"
            ],
            "text/html": [
              "<br>    <style><br>        .wandb-row {<br>            display: flex;<br>            flex-direction: row;<br>            flex-wrap: wrap;<br>            justify-content: flex-start;<br>            width: 100%;<br>        }<br>        .wandb-col {<br>            display: flex;<br>            flex-direction: column;<br>            flex-basis: 100%;<br>            flex: 1;<br>            padding: 10px;<br>        }<br>    </style><br><div class=\"wandb-row\"><div class=\"wandb-col\"><h3>Run history:</h3><br/><table class=\"wandb\"><tr><td>batch_loss</td><td>█▅▃▂▂▂▂▁▁▁▁▁▁▁▁▁▂▁▁▁▁▂▁▁▁▁▁▁▁▁▁▁▁▁▁▁▁▁▂▁</td></tr><tr><td>epoch_loss</td><td>█▁▁▁▁</td></tr><tr><td>training_time_seconds</td><td>▁</td></tr></table><br/></div><div class=\"wandb-col\"><h3>Run summary:</h3><br/><table class=\"wandb\"><tr><td>batch_loss</td><td>0.24105</td></tr><tr><td>epoch_loss</td><td>0.24312</td></tr><tr><td>training_time_seconds</td><td>1735.34421</td></tr></table><br/></div></div>"
            ]
          },
          "metadata": {}
        },
        {
          "output_type": "display_data",
          "data": {
            "text/plain": [
              "<IPython.core.display.HTML object>"
            ],
            "text/html": [
              " View run <strong style=\"color:#cdcd00\">whole-bee-3</strong> at: <a href='https://wandb.ai/namesarnav-unt/SimMIM-CIFAR100/runs/uuqrzjdn' target=\"_blank\">https://wandb.ai/namesarnav-unt/SimMIM-CIFAR100/runs/uuqrzjdn</a><br> View project at: <a href='https://wandb.ai/namesarnav-unt/SimMIM-CIFAR100' target=\"_blank\">https://wandb.ai/namesarnav-unt/SimMIM-CIFAR100</a><br>Synced 5 W&B file(s), 0 media file(s), 0 artifact file(s) and 1 other file(s)"
            ]
          },
          "metadata": {}
        },
        {
          "output_type": "display_data",
          "data": {
            "text/plain": [
              "<IPython.core.display.HTML object>"
            ],
            "text/html": [
              "Find logs at: <code>./wandb/run-20250418_024921-uuqrzjdn/logs</code>"
            ]
          },
          "metadata": {}
        }
      ]
    },
    {
      "cell_type": "code",
      "source": [
        "torch.cuda.empty_cache()"
      ],
      "metadata": {
        "id": "KaswHMp0-f_r"
      },
      "execution_count": 20,
      "outputs": []
    },
    {
      "cell_type": "code",
      "source": [
        "def evaluate_model(model, reconstruction_head, dataloader):\n",
        "    print(\"\\n🔍 Starting Evaluation...\")\n",
        "    start_time = time.time()  # Track start time\n",
        "\n",
        "    total_loss, total_ssim, total_psnr, num_images = 0, 0, 0, 0\n",
        "    model.eval(), reconstruction_head.eval()\n",
        "\n",
        "    with torch.no_grad():  # Disable gradients for efficiency\n",
        "        for batch_idx, (images, _) in enumerate(dataloader):\n",
        "            images = images.to(device)\n",
        "            masked_images = torch.stack([mask_image(img) for img in images]).to(device)\n",
        "\n",
        "            # Forward pass\n",
        "            inputs = feature_extractor(masked_images, return_tensors=\"pt\")[\"pixel_values\"].to(device)\n",
        "            features = model(inputs).last_hidden_state.mean(dim=1)\n",
        "            reconstructed_images = reconstruction_head(features).view(-1, 3, 224, 224)\n",
        "\n",
        "            # Compute L1 loss (pixel reconstruction error)\n",
        "            loss = F.l1_loss(reconstructed_images, images)\n",
        "            total_loss += loss.item()\n",
        "\n",
        "            # Compute SSIM & PSNR for each image\n",
        "            for i in range(images.shape[0]):\n",
        "                orig = images[i].permute(1, 2, 0).cpu().numpy()\n",
        "                recon = reconstructed_images[i].permute(1, 2, 0).cpu().numpy()\n",
        "\n",
        "                # Resize images for SSIM (ensuring win_size compatibility)\n",
        "                orig_resized = resize(orig, (224, 224), anti_aliasing=True)\n",
        "                recon_resized = resize(recon, (224, 224), anti_aliasing=True)\n",
        "\n",
        "                ssim_score = ssim(orig_resized, recon_resized, data_range=255, channel_axis=-1, win_size=7)\n",
        "                total_ssim += ssim_score\n",
        "\n",
        "                # Compute PSNR (Peak Signal-to-Noise Ratio)\n",
        "                mse = np.mean((orig - recon) ** 2)\n",
        "                psnr_score = 20 * np.log10(255.0 / np.sqrt(mse))\n",
        "                total_psnr += psnr_score\n",
        "\n",
        "            num_images += images.shape[0]\n",
        "\n",
        "            # Print progress for every 10 batches\n",
        "            if batch_idx % 10 == 0:\n",
        "                print(f\"🔄 Batch {batch_idx}/{len(dataloader)} Processed\")\n",
        "\n",
        "    # Compute average metrics\n",
        "    avg_loss = total_loss / num_images\n",
        "    avg_ssim = total_ssim / num_images\n",
        "    avg_psnr = total_psnr / num_images\n",
        "\n",
        "    end_time = time.time()  # Track end time\n",
        "\n",
        "    # Print results in a readable format\n",
        "    print(\"\\n✅ Evaluation Complete!\")\n",
        "    print(f\"📌 Avg Reconstruction Loss (L1): {avg_loss:.4f}\")\n",
        "    print(f\"📌 Avg Structural Similarity (SSIM): {avg_ssim:.4f}\")\n",
        "    print(f\"📌 Avg Peak Signal-to-Noise Ratio (PSNR): {avg_psnr:.2f} dB\")\n",
        "    print(f\"⏳ Evaluation Time: {end_time - start_time:.2f} seconds\")\n",
        "\n",
        "    return avg_loss, avg_ssim, avg_psnr\n",
        "\n",
        "# Run evaluation loop\n",
        "evaluate_model(backbone, reconstruction_head, trainloader)"
      ],
      "metadata": {
        "colab": {
          "base_uri": "https://localhost:8080/"
        },
        "id": "N5IaMM5w795f",
        "outputId": "8ef7ee54-b61c-43d5-e32d-df6c7b2848cd"
      },
      "execution_count": 21,
      "outputs": [
        {
          "output_type": "stream",
          "name": "stdout",
          "text": [
            "\n",
            "🔍 Starting Evaluation...\n",
            "🔄 Batch 0/167 Processed\n",
            "🔄 Batch 10/167 Processed\n",
            "🔄 Batch 20/167 Processed\n",
            "🔄 Batch 30/167 Processed\n",
            "🔄 Batch 40/167 Processed\n",
            "🔄 Batch 50/167 Processed\n",
            "🔄 Batch 60/167 Processed\n",
            "🔄 Batch 70/167 Processed\n",
            "🔄 Batch 80/167 Processed\n",
            "🔄 Batch 90/167 Processed\n",
            "🔄 Batch 100/167 Processed\n",
            "🔄 Batch 110/167 Processed\n",
            "🔄 Batch 120/167 Processed\n",
            "🔄 Batch 130/167 Processed\n",
            "🔄 Batch 140/167 Processed\n",
            "🔄 Batch 150/167 Processed\n",
            "🔄 Batch 160/167 Processed\n",
            "\n",
            "✅ Evaluation Complete!\n",
            "📌 Avg Reconstruction Loss (L1): 0.0008\n",
            "📌 Avg Structural Similarity (SSIM): 0.9837\n",
            "📌 Avg Peak Signal-to-Noise Ratio (PSNR): 57.89 dB\n",
            "⏳ Evaluation Time: 1836.40 seconds\n"
          ]
        },
        {
          "output_type": "execute_result",
          "data": {
            "text/plain": [
              "(0.0008072322288155555, np.float32(0.98368484), np.float32(57.88597))"
            ]
          },
          "metadata": {},
          "execution_count": 21
        }
      ]
    },
    {
      "cell_type": "code",
      "source": [
        "\n",
        "\n",
        "# Convert accumulated values into averages\n",
        "epochs = np.arange(1, num_images + 1)\n",
        "ssim_values = np.array([total_ssim / num_images] * num_images)\n",
        "psnr_values = np.array([total_psnr / num_images] * num_images)\n",
        "loss_values = np.array([total_loss / num_images] * num_images)\n",
        "\n",
        "plt.figure(figsize=(8, 5))\n",
        "plt.plot(epochs, loss_values, marker='o', linestyle='-', color='b', label=\"Reconstruction Loss (L1)\")\n",
        "plt.xlabel(\"Evaluation Batches\")\n",
        "plt.ylabel(\"Loss\")\n",
        "plt.title(\"Reconstruction Loss Over Evaluation Batches\")\n",
        "plt.legend()\n",
        "plt.grid(True)\n",
        "plt.savefig(\"evaluation_loss.png\")  # Save for PowerPoint\n",
        "plt.show()\n",
        "\n",
        "plt.figure(figsize=(8, 5))\n",
        "plt.plot(epochs, ssim_values, marker='s', linestyle='-', color='g', label=\"SSIM Score\")\n",
        "plt.plot(epochs, psnr_values, marker='^', linestyle='-', color='r', label=\"PSNR (dB)\")\n",
        "plt.xlabel(\"Evaluation Batches\")\n",
        "plt.ylabel(\"Metric Value\")\n",
        "plt.title(\"Evaluation Metrics Over Batches\")\n",
        "plt.legend()\n",
        "plt.grid(True)\n",
        "plt.savefig(\"evaluation_metrics.png\")  # Save for PowerPoint\n",
        "plt.show()\n",
        "\n",
        "def visualize_images(original, masked, reconstructed):\n",
        "    fig, axes = plt.subplots(1, 3, figsize=(12, 4))\n",
        "    axes[0].imshow(original.permute(1, 2, 0).cpu())\n",
        "    axes[0].set_title(\"Original Image\")\n",
        "    axes[1].imshow(masked.permute(1, 2, 0).cpu())\n",
        "    axes[1].set_title(\"Masked Image\")\n",
        "    axes[2].imshow(reconstructed.permute(1, 2, 0).detach().cpu().numpy())\n",
        "    axes[2].set_title(\"Reconstructed Image\")\n",
        "\n",
        "    plt.tight_layout()\n",
        "    plt.savefig(\"image_reconstruction.png\")  # Save for PowerPoint\n",
        "    plt.show()\n",
        "\n",
        "# Load a test image\n",
        "sample_image = trainset[0][0].to(device)\n",
        "masked_sample = mask_image(sample_image)\n",
        "features = backbone(feature_extractor(masked_sample.unsqueeze(0), return_tensors=\"pt\")[\"pixel_values\"].to(device)).last_hidden_state.mean(dim=1)\n",
        "reconstructed_sample = reconstruction_head(features).view(3, 224, 224)\n",
        "\n",
        "visualize_images(sample_image, masked_sample, reconstructed_sample)"
      ],
      "metadata": {
        "colab": {
          "base_uri": "https://localhost:8080/",
          "height": 211
        },
        "id": "bXIT6n0lI9Uq",
        "outputId": "3988db17-a525-472c-987f-5315e138e097"
      },
      "execution_count": 30,
      "outputs": [
        {
          "output_type": "error",
          "ename": "NameError",
          "evalue": "name 'num_images' is not defined",
          "traceback": [
            "\u001b[0;31m---------------------------------------------------------------------------\u001b[0m",
            "\u001b[0;31mNameError\u001b[0m                                 Traceback (most recent call last)",
            "\u001b[0;32m<ipython-input-30-c172e908176f>\u001b[0m in \u001b[0;36m<cell line: 0>\u001b[0;34m()\u001b[0m\n\u001b[1;32m      1\u001b[0m \u001b[0;31m# Convert accumulated values into averages\u001b[0m\u001b[0;34m\u001b[0m\u001b[0;34m\u001b[0m\u001b[0m\n\u001b[0;32m----> 2\u001b[0;31m \u001b[0mepochs\u001b[0m \u001b[0;34m=\u001b[0m \u001b[0mnp\u001b[0m\u001b[0;34m.\u001b[0m\u001b[0marange\u001b[0m\u001b[0;34m(\u001b[0m\u001b[0;36m1\u001b[0m\u001b[0;34m,\u001b[0m \u001b[0mnum_images\u001b[0m \u001b[0;34m+\u001b[0m \u001b[0;36m1\u001b[0m\u001b[0;34m)\u001b[0m\u001b[0;34m\u001b[0m\u001b[0;34m\u001b[0m\u001b[0m\n\u001b[0m\u001b[1;32m      3\u001b[0m \u001b[0mssim_values\u001b[0m \u001b[0;34m=\u001b[0m \u001b[0mnp\u001b[0m\u001b[0;34m.\u001b[0m\u001b[0marray\u001b[0m\u001b[0;34m(\u001b[0m\u001b[0;34m[\u001b[0m\u001b[0mtotal_ssim\u001b[0m \u001b[0;34m/\u001b[0m \u001b[0mnum_images\u001b[0m\u001b[0;34m]\u001b[0m \u001b[0;34m*\u001b[0m \u001b[0mnum_images\u001b[0m\u001b[0;34m)\u001b[0m\u001b[0;34m\u001b[0m\u001b[0;34m\u001b[0m\u001b[0m\n\u001b[1;32m      4\u001b[0m \u001b[0mpsnr_values\u001b[0m \u001b[0;34m=\u001b[0m \u001b[0mnp\u001b[0m\u001b[0;34m.\u001b[0m\u001b[0marray\u001b[0m\u001b[0;34m(\u001b[0m\u001b[0;34m[\u001b[0m\u001b[0mtotal_psnr\u001b[0m \u001b[0;34m/\u001b[0m \u001b[0mnum_images\u001b[0m\u001b[0;34m]\u001b[0m \u001b[0;34m*\u001b[0m \u001b[0mnum_images\u001b[0m\u001b[0;34m)\u001b[0m\u001b[0;34m\u001b[0m\u001b[0;34m\u001b[0m\u001b[0m\n\u001b[1;32m      5\u001b[0m \u001b[0mloss_values\u001b[0m \u001b[0;34m=\u001b[0m \u001b[0mnp\u001b[0m\u001b[0;34m.\u001b[0m\u001b[0marray\u001b[0m\u001b[0;34m(\u001b[0m\u001b[0;34m[\u001b[0m\u001b[0mtotal_loss\u001b[0m \u001b[0;34m/\u001b[0m \u001b[0mnum_images\u001b[0m\u001b[0;34m]\u001b[0m \u001b[0;34m*\u001b[0m \u001b[0mnum_images\u001b[0m\u001b[0;34m)\u001b[0m\u001b[0;34m\u001b[0m\u001b[0;34m\u001b[0m\u001b[0m\n",
            "\u001b[0;31mNameError\u001b[0m: name 'num_images' is not defined"
          ]
        }
      ]
    }
  ]
}